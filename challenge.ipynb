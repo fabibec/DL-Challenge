{
 "cells": [
  {
   "cell_type": "markdown",
   "metadata": {},
   "source": [
    "# Deep Learning challenge"
   ]
  },
  {
   "cell_type": "markdown",
   "metadata": {},
   "source": [
    "## Objective\n",
    "The objective of this challenge is to develop: \n",
    "- a deep learning-based classification method \n",
    "- a deep learning-based generation algorithm\n",
    "\n",
    "using the [Google Quickdraw](https://quickdraw.withgoogle.com/data) dataset.\n",
    "\n",
    "<center>\n",
    "<img src=\"quickdraw.png\" width=\"200\">\n",
    "</center>\n",
    "\n",
    "\n",
    "\n",
    "## Data \n",
    "Among all the available images, you will work on a dataset composed of 5 balanced classes, with 15000 training examples and 5000 test examples: baskets, eyes, glasses, rabbits and hands. The archive *Data_train_test.zip* contains the set of images, as well as two CSV files, giving the lists of images used for the training/test step. \n",
    "\n",
    "## Methodology\n",
    "You can use any algorithm that seems relevant to you (MLP, CNN, LSTM, ViT, transfer Learning,...), or even create your own neural network ! Find a relevant methodology, evaluate several architectures (use of dropout, batch Normalisation, use of pretrained networks with fine tuning... ), objective functions, optimizers.... Take a look at the influence of the parameters (learning rate, batch size, number of layers, sizes of the kernels,...). Be imaginative !!\n",
    "\n",
    "- For the classification part, assess your results with quantitative indexes (accuracy, top-1 retrieval,...)\n",
    "- For the generation part, assess the diversity of your generated images\n",
    "\n",
    "## Use of notebooks\n",
    "You can (and you are encouraged to) use notebooks provided as course materials. Don't forget also to use good IT ressources (such as colab, a description being provided in the introduction lecture).\n",
    "\n",
    "## Need some help ?\n",
    "Please write an email to [vincent.barra@clermont-auvergne-inp.fr](mailto:vincent.barra@clermont-auvergne-inp.fr). I will be able to directly answer your questions, or initiate a zoom meeting to discuss with you.\n",
    "\n",
    "## Evaluation\n",
    "You have to write a final report in a **jupyter notebook**. The code will be done in Python, the comments in Markdown. \n",
    "In this report, you will detail all the steps that led you to the final results, the code you produce, all the experiments you made (different architectures, different parameters, the way you measure the performance of your method,...) with **relevant** comments.\n",
    "\n",
    "In order not to train all your models by myself, please save your **final** model using the [`dedicated functions in PyTorch`](https://pytorch.org/tutorials/beginner/saving_loading_models.html/). For example:\n",
    "\n",
    "`model = models.vgg16(weights='IMAGENET1K_V1')`\n",
    "\n",
    "`...`\n",
    "\n",
    "`torch.save(model, 'model.pth')`\n",
    "\n",
    "<h3 style=\"color:Tomato;\">Please provide the `.pth` file as well as the full jupyter notebook in a single ZIP file named lastname_firstname_challenge.zip</h3>\n",
    "\n",
    "\n",
    "\n",
    "\n",
    "\n",
    "For the classification part, I have a validation set to validate your trained network. I will run your model on this dataset to measure the classification accuracy. \n",
    "\n",
    "To give the final mark, the following criteria will be used:\n",
    "- I will rank you w.r.t. to the accuracy on the validation set. The ranking will provide a part (8/20) of the note (8 points for the best accuracy down to 2 points for the worst)\n",
    "- The report will provide the remaining 12 points. I will assess the experiments you have made, the final model itself, the comments and the conclusions you have drawn, the results you  have obtained\n",
    "\n",
    "The zip file is due **July 2th 2025 23:59** on the ELO platform."
   ]
  },
  {
   "cell_type": "markdown",
   "metadata": {},
   "source": [
    "## Imports"
   ]
  },
  {
   "cell_type": "code",
   "execution_count": 4,
   "metadata": {},
   "outputs": [],
   "source": [
    "import pandas as pd\n",
    "import os \n",
    "from PIL import Image\n",
    "import glob\n",
    "import matplotlib.pyplot as plt\n",
    "%matplotlib inline\n",
    "\n",
    "# Add all necessary imports\n",
    "#..."
   ]
  },
  {
   "cell_type": "markdown",
   "metadata": {},
   "source": [
    "## Data"
   ]
  },
  {
   "cell_type": "code",
   "execution_count": null,
   "metadata": {},
   "outputs": [],
   "source": [
    "classes = [\"basket\",\"eye\",\"binoculars\",\"rabbit\",\"hand\"]\n",
    "\n",
    "# Use the correct directory\n",
    "train = pd.read_csv('Data_train_test/train.csv')\n",
    "valid = pd.read_csv('Data_train_test/test.csv')"
   ]
  },
  {
   "cell_type": "code",
   "execution_count": null,
   "metadata": {},
   "outputs": [
    {
     "data": {
      "image/png": "[encoded data removed]",
      "text/plain": [
       "<Figure size 1800x900 with 5 Axes>"
      ]
     },
     "metadata": {},
     "output_type": "display_data"
    }
   ],
   "source": [
    "plt.figure(figsize=(18,9))\n",
    "for i in range(0,5):\n",
    "    ax= plt.subplot(1,5 ,i+1)\n",
    "    im = Image.open('Data_train_test/images/'+classes[i]+'/'+ os.listdir(\"Data_train_test/images/\"+classes[i])[0])\n",
    "    fig=ax.imshow(im,cmap='gray')\n",
    "    plt.title(classes[i])\n",
    "    fig.axes.get_xaxis().set_visible(False)\n",
    "    fig.axes.get_yaxis().set_visible(False)\n",
    "plt.show()    \n"
   ]
  },
  {
   "cell_type": "markdown",
   "metadata": {},
   "source": [
    "# Up to you now !!"
   ]
  }
 ],
 "metadata": {
  "kernelspec": {
   "display_name": "lectures12",
   "language": "python",
   "name": "python3"
  },
  "language_info": {
   "codemirror_mode": {
    "name": "ipython",
    "version": 3
   },
   "file_extension": ".py",
   "mimetype": "text/x-python",
   "name": "python",
   "nbconvert_exporter": "python",
   "pygments_lexer": "ipython3",
   "version": "3.12.9"
  }
 },
 "nbformat": 4,
 "nbformat_minor": 4
}
