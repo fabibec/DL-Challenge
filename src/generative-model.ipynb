{
 "cells": [
  {
   "cell_type": "markdown",
   "id": "929afcb6",
   "metadata": {},
   "source": [
    "# Generative Model\n",
    "\n",
    "This notebook deals with finding a good generative model."
   ]
  }
 ],
 "metadata": {
  "language_info": {
   "name": "python"
  }
 },
 "nbformat": 4,
 "nbformat_minor": 5
}
