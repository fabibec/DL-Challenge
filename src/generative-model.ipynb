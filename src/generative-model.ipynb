{
 "cells": [
  {
   "cell_type": "markdown",
   "id": "929afcb6",
   "metadata": {},
   "source": [
    "# Generative Model\n",
    "\n",
    "This notebook deals with finding a good generative model.\n",
    "\n",
    "# TODO: VAE, Diffusion Model & (Sharpening U-Net GAN)"
   ]
  }
 ],
 "metadata": {
  "language_info": {
   "name": "python"
  }
 },
 "nbformat": 4,
 "nbformat_minor": 5
}
